{
 "cells": [
  {
   "cell_type": "code",
   "execution_count": 1,
   "id": "71a6680b",
   "metadata": {},
   "outputs": [],
   "source": [
    "import numpy as np"
   ]
  },
  {
   "cell_type": "code",
   "execution_count": 24,
   "id": "dcd77beb",
   "metadata": {},
   "outputs": [],
   "source": [
    "img=np.zeros((512,512,3))"
   ]
  },
  {
   "cell_type": "code",
   "execution_count": 25,
   "id": "0a68705a",
   "metadata": {},
   "outputs": [
    {
     "data": {
      "text/plain": [
       "True"
      ]
     },
     "execution_count": 25,
     "metadata": {},
     "output_type": "execute_result"
    }
   ],
   "source": [
    "import cv2\n",
    "cv2.imwrite('asd.png',img)"
   ]
  },
  {
   "cell_type": "code",
   "execution_count": 29,
   "id": "5bf6c649",
   "metadata": {},
   "outputs": [
    {
     "data": {
      "text/plain": [
       "True"
      ]
     },
     "execution_count": 29,
     "metadata": {},
     "output_type": "execute_result"
    }
   ],
   "source": [
    "img[100:225,125:222,0]=50\n",
    "img[100:225,125:222,1]=100\n",
    "img[100:225,125:222,2]=175\n",
    "cv2.imwrite('225.png',img)"
   ]
  },
  {
   "cell_type": "code",
   "execution_count": 21,
   "id": "9bfd43ad",
   "metadata": {},
   "outputs": [
    {
     "data": {
      "text/plain": [
       "(512, 512, 3)"
      ]
     },
     "execution_count": 21,
     "metadata": {},
     "output_type": "execute_result"
    }
   ],
   "source": []
  },
  {
   "cell_type": "code",
   "execution_count": null,
   "id": "bbcd7ee7",
   "metadata": {},
   "outputs": [],
   "source": []
  }
 ],
 "metadata": {
  "kernelspec": {
   "display_name": "Python 3 (ipykernel)",
   "language": "python",
   "name": "python3"
  },
  "language_info": {
   "codemirror_mode": {
    "name": "ipython",
    "version": 3
   },
   "file_extension": ".py",
   "mimetype": "text/x-python",
   "name": "python",
   "nbconvert_exporter": "python",
   "pygments_lexer": "ipython3",
   "version": "3.9.7"
  }
 },
 "nbformat": 4,
 "nbformat_minor": 5
}
