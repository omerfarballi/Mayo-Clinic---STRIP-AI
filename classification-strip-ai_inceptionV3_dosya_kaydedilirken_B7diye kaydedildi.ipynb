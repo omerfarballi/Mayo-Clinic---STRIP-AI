{
 "cells": [
  {
   "cell_type": "code",
   "execution_count": 1,
   "metadata": {
    "_cell_guid": "b1076dfc-b9ad-4769-8c92-a6c4dae69d19",
    "_uuid": "8f2839f25d086af736a60e9eeb907d3b93b6e0e5",
    "execution": {
     "iopub.execute_input": "2022-09-28T17:38:33.921526Z",
     "iopub.status.busy": "2022-09-28T17:38:33.921239Z",
     "iopub.status.idle": "2022-09-28T17:38:33.928239Z",
     "shell.execute_reply": "2022-09-28T17:38:33.927236Z",
     "shell.execute_reply.started": "2022-09-28T17:38:33.921496Z"
    }
   },
   "outputs": [],
   "source": [
    "# This Python 3 environment comes with many helpful analytics libraries installed\n",
    "# It is defined by the kaggle/python Docker image: https://github.com/kaggle/docker-python\n",
    "# For example, here's several helpful packages to load\n",
    "\n",
    "import numpy as np # linear algebra\n",
    "import pandas as pd # data processing, CSV file I/O (e.g. pd.read_csv)\n",
    "\n",
    "# Input data files are available in the read-only \"../input/\" directory\n",
    "# For example, running this (by clicking run or pressing Shift+Enter) will list all files under the input directory\n",
    "\n",
    "import os\n",
    "\n",
    "\n",
    "# You can write up to 20GB to the current directory (/kaggle/working/) that gets preserved as output when you create a version using \"Save & Run All\" \n",
    "# You can also write temporary files to /kaggle/temp/, but they won't be saved outside of the current session"
   ]
  },
  {
   "cell_type": "code",
   "execution_count": 2,
   "metadata": {
    "execution": {
     "iopub.execute_input": "2022-09-28T17:41:09.230058Z",
     "iopub.status.busy": "2022-09-28T17:41:09.229264Z",
     "iopub.status.idle": "2022-09-28T17:41:09.364533Z",
     "shell.execute_reply": "2022-09-28T17:41:09.363747Z",
     "shell.execute_reply.started": "2022-09-28T17:41:09.230017Z"
    }
   },
   "outputs": [],
   "source": [
    "import glob\n",
    "path_dataset_1=glob.glob(\"C:/Users/omerf/OneDrive/Desktop/Mayo_clinic/Dataset/dataset-1/train_png/*.png\")\n",
    "path_dataset_2=glob.glob(\"C:/Users/omerf/OneDrive/Desktop/Mayo_clinic/Dataset/dataset-2/train_png/*.png\")\n",
    "path_dataset_3=glob.glob(\"C:/Users/omerf/OneDrive/Desktop/Mayo_clinic/Dataset/dataset-3/train_png/*.png\")\n",
    "path_dataset_4_1=glob.glob(\"C:/Users/omerf/OneDrive/Desktop/Mayo_clinic/Dataset/dataset-4-1/train_png/*.png\")\n",
    "\n",
    "path_dataset_4_2=glob.glob(\"C:/Users/omerf/OneDrive/Desktop/Mayo_clinic/Dataset/dataset-4-2/train_png/*.png\")\n",
    "path_dataset_5_1=glob.glob(\"C:/Users/omerf/OneDrive/Desktop/Mayo_clinic/Dataset/dataset-5-1-index-yok/train_png/*.png\")\n",
    "\n",
    "path_dataset_5_2=glob.glob(\"C:/Users/omerf/OneDrive/Desktop/Mayo_clinic/Dataset/dataset-5-2/train_png/*.png\")"
   ]
  },
  {
   "cell_type": "code",
   "execution_count": 3,
   "metadata": {
    "execution": {
     "iopub.execute_input": "2022-09-28T17:41:09.366878Z",
     "iopub.status.busy": "2022-09-28T17:41:09.366508Z",
     "iopub.status.idle": "2022-09-28T17:41:09.375672Z",
     "shell.execute_reply": "2022-09-28T17:41:09.374920Z",
     "shell.execute_reply.started": "2022-09-28T17:41:09.366844Z"
    }
   },
   "outputs": [
    {
     "data": {
      "text/plain": [
       "518"
      ]
     },
     "execution_count": 3,
     "metadata": {},
     "output_type": "execute_result"
    }
   ],
   "source": [
    "train_png_paths=path_dataset_1+path_dataset_2+path_dataset_3+path_dataset_4_1+path_dataset_4_2+path_dataset_5_1+path_dataset_5_2\n",
    "len(train_png_paths)"
   ]
  },
  {
   "cell_type": "code",
   "execution_count": 4,
   "metadata": {},
   "outputs": [
    {
     "data": {
      "text/plain": [
       "'C:/Users/omerf/OneDrive/Desktop/Mayo_clinic/Dataset/dataset-1/train_png\\\\026c97_0.png'"
      ]
     },
     "execution_count": 4,
     "metadata": {},
     "output_type": "execute_result"
    }
   ],
   "source": [
    "train_png_paths[0]"
   ]
  },
  {
   "cell_type": "code",
   "execution_count": 5,
   "metadata": {
    "execution": {
     "iopub.execute_input": "2022-09-28T17:41:09.809532Z",
     "iopub.status.busy": "2022-09-28T17:41:09.808921Z",
     "iopub.status.idle": "2022-09-28T17:41:09.817570Z",
     "shell.execute_reply": "2022-09-28T17:41:09.816601Z",
     "shell.execute_reply.started": "2022-09-28T17:41:09.809494Z"
    }
   },
   "outputs": [
    {
     "data": {
      "text/plain": [
       "'026c97_0'"
      ]
     },
     "execution_count": 5,
     "metadata": {},
     "output_type": "execute_result"
    }
   ],
   "source": [
    "train_png_paths[0].split('\\\\')[-1][:-4]"
   ]
  },
  {
   "cell_type": "code",
   "execution_count": 6,
   "metadata": {
    "execution": {
     "iopub.execute_input": "2022-09-28T17:41:10.791904Z",
     "iopub.status.busy": "2022-09-28T17:41:10.790086Z",
     "iopub.status.idle": "2022-09-28T17:41:13.257957Z",
     "shell.execute_reply": "2022-09-28T17:41:13.257070Z",
     "shell.execute_reply.started": "2022-09-28T17:41:10.791854Z"
    }
   },
   "outputs": [],
   "source": [
    "import numpy as np\n",
    "DATASET_FOLDER = \"C:/Users/omerf/OneDrive/Desktop/Mayo_clinic/Dataset/\"\n",
    "\n",
    "\n",
    "path_csv = os.path.join(DATASET_FOLDER, \"train.csv\")\n",
    "df_train = pd.read_csv(path_csv)\n",
    "list_df=[]\n",
    "for i in df_train.index:\n",
    "    for ii in range(len(train_png_paths)):\n",
    "        if df_train['image_id'][i]==train_png_paths[ii].split('\\\\')[-1][:-4]:\n",
    "            list_df.append([train_png_paths[ii],df_train['label'][i]])"
   ]
  },
  {
   "cell_type": "code",
   "execution_count": 7,
   "metadata": {
    "execution": {
     "iopub.execute_input": "2022-09-28T17:41:13.259632Z",
     "iopub.status.busy": "2022-09-28T17:41:13.259370Z",
     "iopub.status.idle": "2022-09-28T17:41:13.285180Z",
     "shell.execute_reply": "2022-09-28T17:41:13.284409Z",
     "shell.execute_reply.started": "2022-09-28T17:41:13.259595Z"
    }
   },
   "outputs": [
    {
     "data": {
      "text/html": [
       "<div>\n",
       "<style scoped>\n",
       "    .dataframe tbody tr th:only-of-type {\n",
       "        vertical-align: middle;\n",
       "    }\n",
       "\n",
       "    .dataframe tbody tr th {\n",
       "        vertical-align: top;\n",
       "    }\n",
       "\n",
       "    .dataframe thead th {\n",
       "        text-align: right;\n",
       "    }\n",
       "</style>\n",
       "<table border=\"1\" class=\"dataframe\">\n",
       "  <thead>\n",
       "    <tr style=\"text-align: right;\">\n",
       "      <th></th>\n",
       "      <th>image_path</th>\n",
       "      <th>label</th>\n",
       "    </tr>\n",
       "  </thead>\n",
       "  <tbody>\n",
       "    <tr>\n",
       "      <th>0</th>\n",
       "      <td>C:/Users/omerf/OneDrive/Desktop/Mayo_clinic/Da...</td>\n",
       "      <td>CE</td>\n",
       "    </tr>\n",
       "    <tr>\n",
       "      <th>1</th>\n",
       "      <td>C:/Users/omerf/OneDrive/Desktop/Mayo_clinic/Da...</td>\n",
       "      <td>CE</td>\n",
       "    </tr>\n",
       "    <tr>\n",
       "      <th>2</th>\n",
       "      <td>C:/Users/omerf/OneDrive/Desktop/Mayo_clinic/Da...</td>\n",
       "      <td>CE</td>\n",
       "    </tr>\n",
       "    <tr>\n",
       "      <th>3</th>\n",
       "      <td>C:/Users/omerf/OneDrive/Desktop/Mayo_clinic/Da...</td>\n",
       "      <td>CE</td>\n",
       "    </tr>\n",
       "    <tr>\n",
       "      <th>4</th>\n",
       "      <td>C:/Users/omerf/OneDrive/Desktop/Mayo_clinic/Da...</td>\n",
       "      <td>LAA</td>\n",
       "    </tr>\n",
       "    <tr>\n",
       "      <th>...</th>\n",
       "      <td>...</td>\n",
       "      <td>...</td>\n",
       "    </tr>\n",
       "    <tr>\n",
       "      <th>513</th>\n",
       "      <td>C:/Users/omerf/OneDrive/Desktop/Mayo_clinic/Da...</td>\n",
       "      <td>LAA</td>\n",
       "    </tr>\n",
       "    <tr>\n",
       "      <th>514</th>\n",
       "      <td>C:/Users/omerf/OneDrive/Desktop/Mayo_clinic/Da...</td>\n",
       "      <td>CE</td>\n",
       "    </tr>\n",
       "    <tr>\n",
       "      <th>515</th>\n",
       "      <td>C:/Users/omerf/OneDrive/Desktop/Mayo_clinic/Da...</td>\n",
       "      <td>CE</td>\n",
       "    </tr>\n",
       "    <tr>\n",
       "      <th>516</th>\n",
       "      <td>C:/Users/omerf/OneDrive/Desktop/Mayo_clinic/Da...</td>\n",
       "      <td>CE</td>\n",
       "    </tr>\n",
       "    <tr>\n",
       "      <th>517</th>\n",
       "      <td>C:/Users/omerf/OneDrive/Desktop/Mayo_clinic/Da...</td>\n",
       "      <td>LAA</td>\n",
       "    </tr>\n",
       "  </tbody>\n",
       "</table>\n",
       "<p>518 rows × 2 columns</p>\n",
       "</div>"
      ],
      "text/plain": [
       "                                            image_path label\n",
       "0    C:/Users/omerf/OneDrive/Desktop/Mayo_clinic/Da...    CE\n",
       "1    C:/Users/omerf/OneDrive/Desktop/Mayo_clinic/Da...    CE\n",
       "2    C:/Users/omerf/OneDrive/Desktop/Mayo_clinic/Da...    CE\n",
       "3    C:/Users/omerf/OneDrive/Desktop/Mayo_clinic/Da...    CE\n",
       "4    C:/Users/omerf/OneDrive/Desktop/Mayo_clinic/Da...   LAA\n",
       "..                                                 ...   ...\n",
       "513  C:/Users/omerf/OneDrive/Desktop/Mayo_clinic/Da...   LAA\n",
       "514  C:/Users/omerf/OneDrive/Desktop/Mayo_clinic/Da...    CE\n",
       "515  C:/Users/omerf/OneDrive/Desktop/Mayo_clinic/Da...    CE\n",
       "516  C:/Users/omerf/OneDrive/Desktop/Mayo_clinic/Da...    CE\n",
       "517  C:/Users/omerf/OneDrive/Desktop/Mayo_clinic/Da...   LAA\n",
       "\n",
       "[518 rows x 2 columns]"
      ]
     },
     "execution_count": 7,
     "metadata": {},
     "output_type": "execute_result"
    }
   ],
   "source": [
    "df=pd.DataFrame(list_df,columns=['image_path','label'])\n",
    "df"
   ]
  },
  {
   "cell_type": "code",
   "execution_count": 8,
   "metadata": {
    "execution": {
     "iopub.execute_input": "2022-09-28T17:41:13.546774Z",
     "iopub.status.busy": "2022-09-28T17:41:13.545426Z",
     "iopub.status.idle": "2022-09-28T17:41:13.569269Z",
     "shell.execute_reply": "2022-09-28T17:41:13.568268Z",
     "shell.execute_reply.started": "2022-09-28T17:41:13.546725Z"
    }
   },
   "outputs": [
    {
     "name": "stdout",
     "output_type": "stream",
     "text": [
      "                                           filepaths labels\n",
      "0  C:/Users/omerf/OneDrive/Desktop/Mayo_clinic/Da...     CE\n",
      "1  C:/Users/omerf/OneDrive/Desktop/Mayo_clinic/Da...     CE\n",
      "2  C:/Users/omerf/OneDrive/Desktop/Mayo_clinic/Da...     CE\n",
      "3  C:/Users/omerf/OneDrive/Desktop/Mayo_clinic/Da...     CE\n",
      "4  C:/Users/omerf/OneDrive/Desktop/Mayo_clinic/Da...    LAA\n",
      "CE     392\n",
      "LAA    126\n",
      "Name: labels, dtype: int64\n"
     ]
    },
    {
     "data": {
      "text/plain": [
       "(518, 2)"
      ]
     },
     "execution_count": 8,
     "metadata": {},
     "output_type": "execute_result"
    }
   ],
   "source": [
    "df_copy=df.copy()\n",
    "Fseries = pd.Series(df_copy.image_path, name=\"filepaths\")\n",
    "\n",
    "Lseries = pd.Series(df_copy.label, name=\"labels\")\n",
    "inme_data = pd.concat([Fseries,Lseries], axis=1)\n",
    "inmer_df = pd.DataFrame(inme_data)\n",
    "print(inmer_df.head())\n",
    "print(inmer_df[\"labels\"].value_counts())\n",
    "\n",
    "#shape of datatset\n",
    "inmer_df.shape"
   ]
  },
  {
   "cell_type": "code",
   "execution_count": 9,
   "metadata": {
    "execution": {
     "iopub.execute_input": "2022-09-28T17:41:14.613867Z",
     "iopub.status.busy": "2022-09-28T17:41:14.613541Z",
     "iopub.status.idle": "2022-09-28T17:41:14.624255Z",
     "shell.execute_reply": "2022-09-28T17:41:14.623399Z",
     "shell.execute_reply.started": "2022-09-28T17:41:14.613829Z"
    }
   },
   "outputs": [],
   "source": [
    "import os\n",
    "import pandas as pd\n",
    "import numpy as np\n",
    "import warnings\n",
    "warnings.filterwarnings(action=\"ignore\")\n",
    "import matplotlib.pyplot as plt\n",
    "%matplotlib inline\n",
    "import seaborn as sns\n",
    "from sklearn.preprocessing import StandardScaler \n",
    "from sklearn.model_selection import train_test_split \n",
    "from sklearn.metrics import classification_report\n",
    "#tensorflow libraries\n",
    "import tensorflow as tf\n",
    "from tensorflow import keras\n",
    "from tensorflow.keras.models import Sequential\n",
    "from tensorflow.keras.layers import MaxPooling2D, Dense, Dropout,Flatten, Conv2D\n",
    "from tensorflow.keras.optimizers import Adam\n",
    "from tensorflow.keras.losses import SparseCategoricalCrossentropy\n",
    "from tensorflow.keras.preprocessing.image import ImageDataGenerator\n",
    "from PIL import Image\n",
    "Image.MAX_IMAGE_PIXELS = None\n",
    "\n",
    "from tensorflow.keras.callbacks import TensorBoard,EarlyStopping "
   ]
  },
  {
   "cell_type": "code",
   "execution_count": 10,
   "metadata": {},
   "outputs": [],
   "source": [
    "from sklearn.model_selection import train_test_split\n",
    "train_df, test_df = train_test_split(inmer_df, test_size=0.2, shuffle=True)\n"
   ]
  },
  {
   "cell_type": "code",
   "execution_count": 11,
   "metadata": {
    "execution": {
     "iopub.execute_input": "2022-09-28T17:41:15.022758Z",
     "iopub.status.busy": "2022-09-28T17:41:15.022475Z",
     "iopub.status.idle": "2022-09-28T17:41:15.046977Z",
     "shell.execute_reply": "2022-09-28T17:41:15.046196Z",
     "shell.execute_reply.started": "2022-09-28T17:41:15.022728Z"
    }
   },
   "outputs": [
    {
     "name": "stdout",
     "output_type": "stream",
     "text": [
      "Found 414 validated image filenames belonging to 2 classes.\n",
      "Found 104 validated image filenames belonging to 2 classes.\n"
     ]
    }
   ],
   "source": [
    "image_gen = ImageDataGenerator(preprocessing_function= tf.keras.applications.mobilenet_v2.preprocess_input)\n",
    "train = image_gen.flow_from_dataframe(dataframe= train_df,x_col=\"filepaths\",y_col=\"labels\",\n",
    "                                      target_size=(128,128),\n",
    "\n",
    "                                      class_mode='categorical', #used for Sequential Model\n",
    "                                      batch_size=1,\n",
    "                                      shuffle=False            #do not shuffle data\n",
    "                                     )\n",
    "test = image_gen.flow_from_dataframe(dataframe= test_df,x_col=\"filepaths\",y_col=\"labels\",\n",
    "                                      target_size=(128,128),\n",
    "\n",
    "                                      class_mode='categorical', #used for Sequential Model\n",
    "                                      batch_size=1,\n",
    "                                      shuffle=False            #do not shuffle data\n",
    "                                     )"
   ]
  },
  {
   "cell_type": "code",
   "execution_count": 12,
   "metadata": {},
   "outputs": [
    {
     "name": "stdout",
     "output_type": "stream",
     "text": [
      "Downloading data from https://storage.googleapis.com/tensorflow/keras-applications/inception_v3/inception_v3_weights_tf_dim_ordering_tf_kernels_notop.h5\n",
      "87910968/87910968 [==============================] - 63s 1us/step\n"
     ]
    }
   ],
   "source": [
    "## from tensorflow.keras.applications.inception_v3 import InceptionV3\n",
    "from tensorflow import keras\n",
    "from tensorflow.keras.applications.inception_v3 import InceptionV3\n",
    "base_model = InceptionV3(input_shape = (128, 128, 3), include_top = False, weights = 'imagenet')\n",
    "for layer in base_model.layers:\n",
    "    layer.trainable = False\n",
    "from tensorflow.keras.optimizers import RMSprop\n",
    "\n",
    "x = keras.layers.Flatten()(base_model.output)\n",
    "x = keras.layers.Dense(1024, activation='relu')(x)\n",
    "x = keras.layers.Dropout(0.2)(x)\n",
    "\n",
    "# Add a final sigmoid layer with 1 node for classification output\n",
    "x = keras.layers.Dense(2, activation='sigmoid')(x)\n",
    "\n",
    "model = tf.keras.models.Model(base_model.input, x)\n",
    "\n",
    "model.compile(optimizer = RMSprop(lr=0.0001), loss = 'binary_crossentropy', metrics = ['acc'])"
   ]
  },
  {
   "cell_type": "code",
   "execution_count": 13,
   "metadata": {},
   "outputs": [],
   "source": [
    "from tensorflow.keras.callbacks import EarlyStopping,ModelCheckpoint,TensorBoard,LearningRateScheduler\n",
    "from tensorflow.keras.callbacks import ReduceLROnPlateau, EarlyStopping, ModelCheckpoint, LearningRateScheduler\n",
    "earlystopping = EarlyStopping(monitor='val_loss',\n",
    "                              mode='min', \n",
    "                              verbose=1, \n",
    "                              patience=30\n",
    "                             )\n",
    "# save the best model with lower validation loss\n",
    "checkpointer = ModelCheckpoint(filepath=\"./class_model_EfficientNetB7.h5\", \n",
    "                               verbose=1, \n",
    "                               save_best_only=True\n",
    "                              )\n",
    "reduce_lr = ReduceLROnPlateau(monitor='val_loss',\n",
    "                              mode='min',\n",
    "                              verbose=1,\n",
    "                              patience=10,\n",
    "                              min_delta=0.0001,\n",
    "                              factor=0.2\n",
    "                             )"
   ]
  },
  {
   "cell_type": "code",
   "execution_count": 14,
   "metadata": {},
   "outputs": [
    {
     "name": "stdout",
     "output_type": "stream",
     "text": [
      "Epoch 1/10\n",
      "414/414 [==============================] - ETA: 0s - loss: 1.5180 - acc: 0.6884\n",
      "Epoch 1: val_loss improved from inf to 1.16223, saving model to .\\class_model_EfficientNetB7.h5\n",
      "414/414 [==============================] - 2884s 7s/step - loss: 1.5180 - acc: 0.6884 - val_loss: 1.1622 - val_acc: 0.7115 - lr: 1.0000e-04\n",
      "Epoch 2/10\n",
      "414/414 [==============================] - ETA: 0s - loss: 1.2619 - acc: 0.7222\n",
      "Epoch 2: val_loss did not improve from 1.16223\n",
      "414/414 [==============================] - 2855s 7s/step - loss: 1.2619 - acc: 0.7222 - val_loss: 1.1876 - val_acc: 0.6154 - lr: 1.0000e-04\n",
      "Epoch 3/10\n",
      "414/414 [==============================] - ETA: 0s - loss: 1.2930 - acc: 0.7464\n",
      "Epoch 3: val_loss did not improve from 1.16223\n",
      "414/414 [==============================] - 2820s 7s/step - loss: 1.2930 - acc: 0.7464 - val_loss: 1.9815 - val_acc: 0.7212 - lr: 1.0000e-04\n",
      "Epoch 4/10\n",
      "414/414 [==============================] - ETA: 0s - loss: 1.0805 - acc: 0.7802\n",
      "Epoch 4: val_loss did not improve from 1.16223\n",
      "414/414 [==============================] - 2851s 7s/step - loss: 1.0805 - acc: 0.7802 - val_loss: 1.9002 - val_acc: 0.5000 - lr: 1.0000e-04\n",
      "Epoch 5/10\n",
      "414/414 [==============================] - ETA: 0s - loss: 1.1048 - acc: 0.8019\n",
      "Epoch 5: val_loss did not improve from 1.16223\n",
      "414/414 [==============================] - 3033s 7s/step - loss: 1.1048 - acc: 0.8019 - val_loss: 2.1901 - val_acc: 0.6635 - lr: 1.0000e-04\n",
      "Epoch 6/10\n",
      "414/414 [==============================] - ETA: 0s - loss: 0.9159 - acc: 0.8382\n",
      "Epoch 6: val_loss did not improve from 1.16223\n",
      "414/414 [==============================] - 2960s 7s/step - loss: 0.9159 - acc: 0.8382 - val_loss: 2.0485 - val_acc: 0.5769 - lr: 1.0000e-04\n",
      "Epoch 7/10\n",
      "414/414 [==============================] - ETA: 0s - loss: 0.7209 - acc: 0.8647\n",
      "Epoch 7: val_loss did not improve from 1.16223\n",
      "414/414 [==============================] - 2962s 7s/step - loss: 0.7209 - acc: 0.8647 - val_loss: 3.9129 - val_acc: 0.7308 - lr: 1.0000e-04\n",
      "Epoch 8/10\n",
      "414/414 [==============================] - ETA: 0s - loss: 0.6348 - acc: 0.8720\n",
      "Epoch 8: val_loss did not improve from 1.16223\n",
      "414/414 [==============================] - 2962s 7s/step - loss: 0.6348 - acc: 0.8720 - val_loss: 2.4858 - val_acc: 0.5481 - lr: 1.0000e-04\n",
      "Epoch 9/10\n",
      "414/414 [==============================] - ETA: 0s - loss: 0.5597 - acc: 0.8961\n",
      "Epoch 9: val_loss did not improve from 1.16223\n",
      "414/414 [==============================] - 2958s 7s/step - loss: 0.5597 - acc: 0.8961 - val_loss: 2.9200 - val_acc: 0.6538 - lr: 1.0000e-04\n",
      "Epoch 10/10\n",
      "414/414 [==============================] - ETA: 0s - loss: 0.4502 - acc: 0.9275\n",
      "Epoch 10: val_loss did not improve from 1.16223\n",
      "414/414 [==============================] - 2996s 7s/step - loss: 0.4502 - acc: 0.9275 - val_loss: 2.6027 - val_acc: 0.6058 - lr: 1.0000e-04\n"
     ]
    }
   ],
   "source": [
    "inc_history = model.fit_generator(train, epochs = 10,validation_data=test,\n",
    "                                        callbacks = [checkpointer, earlystopping, reduce_lr])"
   ]
  },
  {
   "cell_type": "code",
   "execution_count": 15,
   "metadata": {},
   "outputs": [],
   "source": [
    "model.save('inceptionV3.h5')"
   ]
  },
  {
   "cell_type": "code",
   "execution_count": null,
   "metadata": {},
   "outputs": [],
   "source": []
  }
 ],
 "metadata": {
  "kernelspec": {
   "display_name": "Python 3 (ipykernel)",
   "language": "python",
   "name": "python3"
  },
  "language_info": {
   "codemirror_mode": {
    "name": "ipython",
    "version": 3
   },
   "file_extension": ".py",
   "mimetype": "text/x-python",
   "name": "python",
   "nbconvert_exporter": "python",
   "pygments_lexer": "ipython3",
   "version": "3.9.7"
  }
 },
 "nbformat": 4,
 "nbformat_minor": 4
}
